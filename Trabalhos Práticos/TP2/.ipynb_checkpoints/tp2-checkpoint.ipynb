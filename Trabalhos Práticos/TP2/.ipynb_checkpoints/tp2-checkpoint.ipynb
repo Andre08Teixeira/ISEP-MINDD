{
 "cells": [
  {
   "cell_type": "code",
   "execution_count": null,
   "id": "eb2452a6-aeeb-4d43-a83c-5acc6ffac7d4",
   "metadata": {},
   "outputs": [],
   "source": [
    "## **Tracks the electric power consumption of a household** 📊🏦\n",
    "\n",
    "### **Introduction**\n",
    "\n",
    "Forecasting energy consumption helps ensure the grid provides enough energy for households, allowing energy companies\n",
    "to plan load, produce enough during peak times, and avoid excess electricity, preventing grid imbalance and\n",
    "disconnection risks.\n",
    "    \n",
    "### **Description Data**\n",
    "The dataset to explore consists of three years of hourly electricity load and temperature, between 2012 and\n",
    "2014. It contains the following columns:\n",
    "\n",
    "    1. Date – the actual date the measurement was recorded\n",
    "    2. Hour – the actual hour the measurement was recorded\n",
    "    3. Load value – the actual consumption measured in kWh (kilowatt-hour)\n",
    "    4. Temperature – the temperature collected in degrees Celsius\n",
    "\n",
    "### **Objective of the project**\n",
    "The objective of this project is to make one-step and multi-step forecast of electric energy consumption with\n",
    "several kinds of models:\n",
    "Statistical models:\n",
    "Select/derive a subset of data manageable by statistical models\n",
    "Model the series with an adequate statistical function\n",
    "Machine learning models:\n",
    "Using several regression algorithms\n",
    "Deep learning models:\n",
    "Using LSTM and GRU networks\n",
    "Evaluate the models, compare them at least with one baseline model.\n",
    "Select the best-performing model."
   ]
  }
 ],
 "metadata": {
  "kernelspec": {
   "display_name": "Python 3 (ipykernel)",
   "language": "python",
   "name": "python3"
  },
  "language_info": {
   "codemirror_mode": {
    "name": "ipython",
    "version": 3
   },
   "file_extension": ".py",
   "mimetype": "text/x-python",
   "name": "python",
   "nbconvert_exporter": "python",
   "pygments_lexer": "ipython3",
   "version": "3.12.0"
  }
 },
 "nbformat": 4,
 "nbformat_minor": 5
}
